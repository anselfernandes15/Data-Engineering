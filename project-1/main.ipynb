{
 "cells": [
  {
   "cell_type": "code",
   "execution_count": 49,
   "id": "6a96aad7",
   "metadata": {},
   "outputs": [],
   "source": [
    "import json \n",
    "import pandas as pd\n",
    "import glob\n",
    "import re\n",
    "import os"
   ]
  },
  {
   "cell_type": "code",
   "execution_count": 50,
   "id": "2c049c97",
   "metadata": {},
   "outputs": [],
   "source": [
    "def get_column_names(schemas, ds_name, sorting_key='column_position'):\n",
    "    column_details = schemas[ds_name]\n",
    "    columns = sorted(column_details, key=lambda col : col[sorting_key])\n",
    "    return [col['column_name'] for col in columns]"
   ]
  },
  {
   "cell_type": "code",
   "execution_count": null,
   "id": "acfc380c",
   "metadata": {},
   "outputs": [],
   "source": []
  },
  {
   "cell_type": "code",
   "execution_count": 51,
   "id": "18ec535b",
   "metadata": {},
   "outputs": [],
   "source": [
    "def convert_csv_to_json(schemas, ds_name, base_loc, folderName, fileName, new_base_loc):\n",
    "\n",
    "    columns = get_column_names(schemas=schemas,ds_name=ds_name)\n",
    "\n",
    "    original_file_loc = f'{base_loc}/{folderName}/{fileName}'\n",
    "    data = pd.read_csv(original_file_loc, header=None, names=columns)\n",
    "    print(f'Length of raw data for {ds_name} = {len(data)}')\n",
    "    \n",
    "    json_file_loc = f'{new_base_loc}/{folderName}'\n",
    "    os.makedirs(json_file_loc,exist_ok=True)\n",
    "\n",
    "    data.to_json(f'{json_file_loc}/{fileName}', orient='records', lines=True)\n",
    "    json_data = pd.read_json(f'{json_file_loc}/{fileName}', lines=True)\n",
    "    print(f'Length of json data for {ds_name} = {len(json_data)}')\n",
    "    \n",
    "    return json_data"
   ]
  },
  {
   "cell_type": "markdown",
   "id": "1050732d",
   "metadata": {},
   "source": [
    "Converting Categories"
   ]
  },
  {
   "cell_type": "code",
   "execution_count": 52,
   "id": "598a9818",
   "metadata": {},
   "outputs": [
    {
     "name": "stderr",
     "output_type": "stream",
     "text": [
      "<>:7: SyntaxWarning: invalid escape sequence '\\]'\n",
      "<>:7: SyntaxWarning: invalid escape sequence '\\]'\n",
      "C:\\Users\\Ansel\\AppData\\Local\\Temp\\ipykernel_2500\\305143586.py:7: SyntaxWarning: invalid escape sequence '\\]'\n",
      "  split_data = re.split('[/\\\\\\]',file)\n"
     ]
    },
    {
     "name": "stdout",
     "output_type": "stream",
     "text": [
      "Length of raw data for categories = 58\n",
      "Length of json data for categories = 58\n",
      "Length of raw data for customers = 12435\n",
      "Length of json data for customers = 12435\n",
      "Length of raw data for departments = 6\n",
      "Length of json data for departments = 6\n",
      "Length of raw data for orders = 68883\n",
      "Length of json data for orders = 68883\n",
      "Length of raw data for order_items = 172198\n",
      "Length of json data for order_items = 172198\n",
      "Length of raw data for products = 1345\n",
      "Length of json data for products = 1345\n"
     ]
    }
   ],
   "source": [
    "base_path = f'data/retail_db'\n",
    "new_base_path = f'data/retail_db_json'\n",
    "schemas = json.load(open(file=f'{base_path}/schemas.json')) \n",
    "src_file_names = glob.glob(f'{base_path}/*/part-*')\n",
    "\n",
    "for file in src_file_names:\n",
    "    split_data = re.split('[/\\\\\\]',file)\n",
    "    convert_csv_to_json(\n",
    "        schemas=schemas,\n",
    "        ds_name=split_data[2],\n",
    "        base_loc=base_path,\n",
    "        folderName=split_data[2],\n",
    "        fileName=split_data[3],\n",
    "        new_base_loc=new_base_path\n",
    "    )"
   ]
  },
  {
   "cell_type": "code",
   "execution_count": null,
   "id": "730b1c2a",
   "metadata": {},
   "outputs": [],
   "source": []
  }
 ],
 "metadata": {
  "kernelspec": {
   "display_name": "venv",
   "language": "python",
   "name": "python3"
  },
  "language_info": {
   "codemirror_mode": {
    "name": "ipython",
    "version": 3
   },
   "file_extension": ".py",
   "mimetype": "text/x-python",
   "name": "python",
   "nbconvert_exporter": "python",
   "pygments_lexer": "ipython3",
   "version": "3.13.0"
  }
 },
 "nbformat": 4,
 "nbformat_minor": 5
}
